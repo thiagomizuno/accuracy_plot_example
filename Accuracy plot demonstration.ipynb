{
 "cells": [
  {
   "cell_type": "code",
   "execution_count": 14,
   "id": "a07aa6a9",
   "metadata": {},
   "outputs": [],
   "source": [
    "import pandas as pd\n",
    "import os\n",
    "import pygeostat as gs\n",
    "import numpy as np\n",
    "import matplotlib.pyplot as plt\n",
    "from DisplayPostscriptInJupyter import *\n",
    "from scipy.stats import norm"
   ]
  },
  {
   "cell_type": "code",
   "execution_count": 15,
   "id": "a284d7c5",
   "metadata": {},
   "outputs": [],
   "source": [
    "# Define the name for the main folder\n",
    "name_run = 'acc_test'\n",
    "\n",
    "# Create the working folders if they do not exists\n",
    "os.makedirs('./'+ name_run +'/data/', exist_ok=True)\n",
    "os.makedirs('./'+ name_run +'/outputs/', exist_ok=True)\n",
    "os.makedirs('./'+ name_run +'/figures/', exist_ok=True)"
   ]
  },
  {
   "cell_type": "code",
   "execution_count": 16,
   "id": "2fccfac3",
   "metadata": {},
   "outputs": [],
   "source": [
    "# Set the working folders\n",
    "\n",
    "datdir = './'+ name_run +'/data/'\n",
    "outdir = './'+ name_run +'/outputs/'\n",
    "figdir = './'+ name_run +'/figures/'\n",
    "img = './image_conv/'\n",
    "exedir = './exes/'"
   ]
  },
  {
   "cell_type": "markdown",
   "id": "eaebfb65",
   "metadata": {},
   "source": [
    "# Accuracy plot"
   ]
  },
  {
   "cell_type": "markdown",
   "id": "39e8e0ac",
   "metadata": {},
   "source": [
    "## p-value"
   ]
  },
  {
   "cell_type": "markdown",
   "id": "fc5359a3",
   "metadata": {},
   "source": [
    "First step is to calculate the p-values of true regarding the model of unceranty "
   ]
  },
  {
   "cell_type": "markdown",
   "id": "5d6a4c4c",
   "metadata": {},
   "source": [
    "$ F^*(u_i;z(u_i)|n(u_i)), i = 1,...,n  $"
   ]
  },
  {
   "cell_type": "code",
   "execution_count": 17,
   "id": "87640c21",
   "metadata": {},
   "outputs": [],
   "source": [
    "# Load the file with samples\n",
    "\n",
    "df_sample_100 = gs.DataFile(datdir + 'df_sample_100.dat')\n",
    "\n",
    "# Calculate the p Value using the local model of uncertanty\n",
    "\n",
    "df_sample_100['p_value'] = norm.cdf(df_sample_100['NS_true'], df_sample_100['E-type'], df_sample_100['variance']**0.5)\n"
   ]
  },
  {
   "cell_type": "code",
   "execution_count": 18,
   "id": "a483f965",
   "metadata": {},
   "outputs": [
    {
     "data": {
      "text/html": [
       "<div>\n",
       "<style scoped>\n",
       "    .dataframe tbody tr th:only-of-type {\n",
       "        vertical-align: middle;\n",
       "    }\n",
       "\n",
       "    .dataframe tbody tr th {\n",
       "        vertical-align: top;\n",
       "    }\n",
       "\n",
       "    .dataframe thead th {\n",
       "        text-align: right;\n",
       "    }\n",
       "</style>\n",
       "<table border=\"1\" class=\"dataframe\">\n",
       "  <thead>\n",
       "    <tr style=\"text-align: right;\">\n",
       "      <th></th>\n",
       "      <th>NS_true</th>\n",
       "      <th>E-type</th>\n",
       "      <th>variance</th>\n",
       "      <th>p_value</th>\n",
       "    </tr>\n",
       "  </thead>\n",
       "  <tbody>\n",
       "    <tr>\n",
       "      <th>0</th>\n",
       "      <td>0.197454</td>\n",
       "      <td>-0.07617</td>\n",
       "      <td>0.728497</td>\n",
       "      <td>0.625737</td>\n",
       "    </tr>\n",
       "    <tr>\n",
       "      <th>1</th>\n",
       "      <td>-0.266001</td>\n",
       "      <td>-0.27795</td>\n",
       "      <td>0.885420</td>\n",
       "      <td>0.505066</td>\n",
       "    </tr>\n",
       "    <tr>\n",
       "      <th>2</th>\n",
       "      <td>-1.774623</td>\n",
       "      <td>-0.59076</td>\n",
       "      <td>0.912924</td>\n",
       "      <td>0.107666</td>\n",
       "    </tr>\n",
       "    <tr>\n",
       "      <th>3</th>\n",
       "      <td>1.305720</td>\n",
       "      <td>-0.19407</td>\n",
       "      <td>0.901706</td>\n",
       "      <td>0.942880</td>\n",
       "    </tr>\n",
       "    <tr>\n",
       "      <th>4</th>\n",
       "      <td>0.304516</td>\n",
       "      <td>0.14166</td>\n",
       "      <td>1.055293</td>\n",
       "      <td>0.562981</td>\n",
       "    </tr>\n",
       "    <tr>\n",
       "      <th>5</th>\n",
       "      <td>-0.128743</td>\n",
       "      <td>-0.37010</td>\n",
       "      <td>0.796299</td>\n",
       "      <td>0.606601</td>\n",
       "    </tr>\n",
       "    <tr>\n",
       "      <th>6</th>\n",
       "      <td>0.231685</td>\n",
       "      <td>-0.34157</td>\n",
       "      <td>0.984756</td>\n",
       "      <td>0.718258</td>\n",
       "    </tr>\n",
       "    <tr>\n",
       "      <th>7</th>\n",
       "      <td>0.240198</td>\n",
       "      <td>0.08887</td>\n",
       "      <td>1.111887</td>\n",
       "      <td>0.557057</td>\n",
       "    </tr>\n",
       "    <tr>\n",
       "      <th>8</th>\n",
       "      <td>0.420896</td>\n",
       "      <td>-0.55340</td>\n",
       "      <td>0.998712</td>\n",
       "      <td>0.835201</td>\n",
       "    </tr>\n",
       "    <tr>\n",
       "      <th>9</th>\n",
       "      <td>0.627527</td>\n",
       "      <td>-0.53700</td>\n",
       "      <td>1.039919</td>\n",
       "      <td>0.873264</td>\n",
       "    </tr>\n",
       "  </tbody>\n",
       "</table>\n",
       "</div>"
      ],
      "text/plain": [
       "    NS_true   E-type  variance   p_value\n",
       "0  0.197454 -0.07617  0.728497  0.625737\n",
       "1 -0.266001 -0.27795  0.885420  0.505066\n",
       "2 -1.774623 -0.59076  0.912924  0.107666\n",
       "3  1.305720 -0.19407  0.901706  0.942880\n",
       "4  0.304516  0.14166  1.055293  0.562981\n",
       "5 -0.128743 -0.37010  0.796299  0.606601\n",
       "6  0.231685 -0.34157  0.984756  0.718258\n",
       "7  0.240198  0.08887  1.111887  0.557057\n",
       "8  0.420896 -0.55340  0.998712  0.835201\n",
       "9  0.627527 -0.53700  1.039919  0.873264"
      ]
     },
     "execution_count": 18,
     "metadata": {},
     "output_type": "execute_result"
    }
   ],
   "source": [
    "df_sample_100.data"
   ]
  },
  {
   "cell_type": "markdown",
   "id": "0e74bbe8",
   "metadata": {},
   "source": [
    "## p-probability interval calculation"
   ]
  },
  {
   "cell_type": "markdown",
   "id": "64396310",
   "metadata": {},
   "source": [
    "Symmetric intervals for calculation"
   ]
  },
  {
   "cell_type": "markdown",
   "id": "6d0e048b",
   "metadata": {},
   "source": [
    "$\\text{cdf}_\\text{lo} = \\frac{(1-p)}{2}$ and $\\text{cdf}_\\text{hi} = \\frac{(1+p)}{2}$"
   ]
  },
  {
   "cell_type": "markdown",
   "id": "d7454acc",
   "metadata": {},
   "source": [
    "p = pval"
   ]
  },
  {
   "cell_type": "markdown",
   "id": "c8bed427",
   "metadata": {},
   "source": [
    "Test to define if True is inside the inverval"
   ]
  },
  {
   "cell_type": "markdown",
   "id": "e3785eb8",
   "metadata": {},
   "source": [
    "$\\epsilon(u_i;p) = \\begin{cases}\n",
    "1, & \\text{if } F(u_i;z(u_i)|n(u_i)) \\in (p_{\\text{low}}, p_{\\text{upp}}) \\\\\n",
    "0, & \\text{otherwise}\n",
    "\\end{cases} $"
   ]
  },
  {
   "cell_type": "code",
   "execution_count": 19,
   "id": "17dad793",
   "metadata": {},
   "outputs": [],
   "source": [
    "# Variables used in calculation \n",
    "\n",
    "true = np.array(df_sample_100['p_value']) # p-values of true\n",
    "pinc = 0.1 # probability increments \n",
    "npint = int(0.999 / pinc) # number for intervals\n",
    "nd = len(true) # number of data\n"
   ]
  },
  {
   "cell_type": "code",
   "execution_count": 20,
   "id": "390c6e85",
   "metadata": {},
   "outputs": [
    {
     "name": "stdout",
     "output_type": "stream",
     "text": [
      "Interval 0.100 actual fraction 0.100\n",
      "Interval 0.200 actual fraction 0.300\n",
      "Interval 0.300 actual fraction 0.500\n",
      "Interval 0.400 actual fraction 0.500\n",
      "Interval 0.500 actual fraction 0.600\n",
      "Interval 0.600 actual fraction 0.600\n",
      "Interval 0.700 actual fraction 0.700\n",
      "Interval 0.800 actual fraction 0.900\n",
      "Interval 0.900 actual fraction 1.000\n"
     ]
    }
   ],
   "source": [
    "# Loop over all probability increments\n",
    "\n",
    "vr1 = np.zeros(npint)\n",
    "vr2 = np.zeros(npint)\n",
    "\n",
    "for ival in range(npint):\n",
    "    \n",
    "    pval = 0.0\n",
    "    pval += (ival + 1) * pinc  # Alterando os intervalos a cada iteração\n",
    "    vr1[ival] = pval\n",
    "    cdflo = (1.0 - pval) / 2.0\n",
    "    cdfhi = 1.0 - cdflo\n",
    "\n",
    "    num = 0 # Count when True is in interval\n",
    "    \n",
    "    for id in range(nd):\n",
    "        cdf = true[id]\n",
    "        if cdf > cdflo and cdf < cdfhi:\n",
    "            num += 1\n",
    "    act = float(num) / float(nd)\n",
    "    vr2[ival] = act\n",
    "\n",
    "    \n",
    "    print(f'Interval {pval:.3f} actual fraction {act:.3f}')"
   ]
  },
  {
   "cell_type": "markdown",
   "id": "ed201bfb",
   "metadata": {},
   "source": [
    "## Accuracy plot"
   ]
  },
  {
   "cell_type": "code",
   "execution_count": 21,
   "id": "9e63aa74",
   "metadata": {},
   "outputs": [
    {
     "data": {
      "image/png": "[encoded data removed]",
      "text/plain": [
       "<Figure size 720x720 with 1 Axes>"
      ]
     },
     "metadata": {
      "needs_background": "light"
     },
     "output_type": "display_data"
    }
   ],
   "source": [
    "# Create an array for the 45-degree line (y = x)\n",
    "line = np.linspace(0, 1, 100)\n",
    "\n",
    "plt.figure(figsize=(10, 10))\n",
    "plt.scatter(vr1, vr2, c='black')  # Plot the points\n",
    "plt.plot(line, line, 'k-')  # Plot the 45-degree line\n",
    "\n",
    "for x, y in zip(vr1, vr2):\n",
    "    plt.plot([x, x], [x, y], 'r--', linewidth=2)\n",
    "\n",
    "plt.xlabel(\"Probability Interval\")\n",
    "plt.ylabel(\"Fraction Interval\")\n",
    "plt.xlim(0, 1)  # x-axis limits\n",
    "plt.ylim(0, 1)  # y-axis limits\n",
    "plt.grid(True)\n",
    "plt.title(\"Accuracy Plot\")\n",
    "plt.show()"
   ]
  },
  {
   "cell_type": "markdown",
   "id": "feb950e4",
   "metadata": {},
   "source": [
    "Based on: C. V. Deutsch, 2010, Display of Cross Validation / Jackknife Results, CCG Paper 2010-406, Centre for Computational Geostatistics, University of Alberta, Edmonton, Canada"
   ]
  }
 ],
 "metadata": {
  "kernelspec": {
   "display_name": "Python 3 (ipykernel)",
   "language": "python",
   "name": "python3"
  },
  "language_info": {
   "codemirror_mode": {
    "name": "ipython",
    "version": 3
   },
   "file_extension": ".py",
   "mimetype": "text/x-python",
   "name": "python",
   "nbconvert_exporter": "python",
   "pygments_lexer": "ipython3",
   "version": "3.9.7"
  },
  "toc": {
   "base_numbering": 1,
   "nav_menu": {},
   "number_sections": true,
   "sideBar": true,
   "skip_h1_title": false,
   "title_cell": "Table of Contents",
   "title_sidebar": "Contents",
   "toc_cell": false,
   "toc_position": {},
   "toc_section_display": true,
   "toc_window_display": false
  },
  "varInspector": {
   "cols": {
    "lenName": 16,
    "lenType": 16,
    "lenVar": 40
   },
   "kernels_config": {
    "python": {
     "delete_cmd_postfix": "",
     "delete_cmd_prefix": "del ",
     "library": "var_list.py",
     "varRefreshCmd": "print(var_dic_list())"
    },
    "r": {
     "delete_cmd_postfix": ") ",
     "delete_cmd_prefix": "rm(",
     "library": "var_list.r",
     "varRefreshCmd": "cat(var_dic_list()) "
    }
   },
   "types_to_exclude": [
    "module",
    "function",
    "builtin_function_or_method",
    "instance",
    "_Feature"
   ],
   "window_display": false
  }
 },
 "nbformat": 4,
 "nbformat_minor": 5
}
